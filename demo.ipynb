{
 "cells": [
  {
   "cell_type": "markdown",
   "metadata": {},
   "source": [
    "# Neural Networks with MicroGrad\n",
    "\n",
    "This presentation is concerned with the general concept of *Neural Networks*, and does not touch on more complex topics such as *Generative AI*, however\n",
    "since *Neural Networks* are building blocks of more architectures they are worth studying on their own. \n",
    "\n",
    "We'll start with high-level concepts and get an idea how *Neural Networks* work, at first treating the Calculus behind gradient descent as a *black box*, but going over all the moving parts that make *Neural Networks* work.  We'll dive into the Calculus in a future session if there is interest.\n",
    "\n",
    "Notebook Demo starts at 1h:44min in Andrej's video: https://youtu.be/VMj-3S1tku0?si=_puXz5fzFOlUeLab&t=6242\n",
    "\n",
    "### Other Useful Resources\n",
    "\n",
    "* Andrej has taken other material from https://cs231n.github.io/convolutional-networks/ (Stanford CS231).  That seems interesting for future topics (like CNN)\n",
    "\n",
    "* A summary of Machine learning terms: https://ml-cheatsheet.readthedocs.io/en/latest/index.html\n",
    "\n",
    "Note: MicroGrad is modeled after **pytorch**, so it should be not too difficult to start out with MicroGrad for learning, then switch\n",
    "to pytorch for performance.\n"
   ]
  },
  {
   "cell_type": "markdown",
   "metadata": {},
   "source": [
    "## Key concepts\n",
    "\n",
    "### Training Data\n",
    "\n",
    "**training/evaluation data sets** In order to train any model you need to split your data into at least two sets: training, and evaluation. Each individual input (image for example) is called a $example$.\n",
    "\n",
    "*Training data* consists of two sets of data: *inputs* ($X$) and *target* values ($y$). For each example $X^{(i)}$ you need a target that represents the value that we want the network to produce.\n",
    "\n",
    "It is *critical* that you __do not use the same data for both training and evaluation__ because if you train your model on the exact data you evaluate it on you will *over-fit* your model.\n",
    "\n",
    "### Regression vs. Classification\n",
    "\n",
    "* **Regression** deals with continuous inputs/outputs.  If you can fit a polynomial function through the data to make a prediction, linear regression is a good fit. \n",
    "\n",
    "* **Classification** deals with classifying inputs into one or more categories.  It goes by *binary classification* when there are only two categores.  The example in the Notebook is a classification problem ($half\\_moon$)\n",
    "\n",
    "### Activation function\n",
    "\n",
    "The **activation function** is: $a = g(z)$, where: $z = \\overrightarrow{w\\ } \\cdot \\overrightarrow{x\\ } + b$  (we'll see more on this below under **Perceptron** section). \n",
    "\n",
    "A common activation function for binary classification is the *sigmoid function*, $g(z) = \\frac{1}{1+e^{(-z)}}$ \n",
    "\n",
    "### Loss function\n",
    "The Loss measures the total performance of the network. The goal of training the network is to adjust the parameters incrementally in order to **minimize the loss function**\n",
    "\n",
    "**Mean Square Error (MSE)** \n",
    "\n",
    "This function is pretty easy to understand, so let's take a look at it:\n",
    "\n",
    "$$J(w,b) = \\frac{1}{2m} \\sum\\limits_{i=0}^{m-1} (y - t)^2$$\n",
    "\n",
    " $y$ is the prediction, $t$ is the target value (from the training set).  These are the terms Andrej uses in the code.\n",
    "\n",
    "MSE is typically used for linear regression -- when  continuous output and a linear relationship between input and output.  \n",
    "\n",
    "**Note** For the $half\\_moon$ example in this notebook we are using **Hinge Loss** (also known as **svm \"max-margin\" loss**).  We will discuss that more when we get to that section. \n",
    "\n",
    "\n",
    "**Summary at the end of Andrej's presentation**, covering the key things we've learned. It may be good to review these at the end (it's just a few minutes)\n",
    "\n",
    "https://youtu.be/VMj-3S1tku0?si=DiJXnjC-HKidXjbF&t=8043"
   ]
  },
  {
   "cell_type": "markdown",
   "metadata": {},
   "source": [
    "### Gradient descent\n",
    "Updating parameters a little bit at the time:\n",
    "https://youtu.be/VMj-3S1tku0?si=s7xqxVQNrWau7rQa&t=7285\n",
    "\n",
    "* think of the gradient as a vector pointing in the direction of increased loss, so in order to decrease \n",
    "the loss we decrease the parameter by the gradient (multiplied by the learning rate)\n",
    "* between 2:01 (link above) and 2:09 - shows how we nudge the parameters to produces a smaller loss\n",
    "\n",
    "#### Visualizing Gradient Descent\n",
    "https://mathformachines.com/posts/visualizing-the-loss-landscape/"
   ]
  },
  {
   "cell_type": "markdown",
   "metadata": {},
   "source": [
    "### What is a Neuron?\n",
    "\n",
    "* Inputs X: in this example three inputs: $x_0$, $x_1$, $x_2$\n",
    "* weights:  $w_0$, $w_1$, $w_2$\n",
    "* bias $b$\n",
    "* activation function: $f(\\sum_i({w{_i}}\\cdot{x_i}+ b))$\n",
    "\n",
    "![Neural Network](images/neuron_model.jpeg)"
   ]
  },
  {
   "cell_type": "markdown",
   "metadata": {},
   "source": [
    "### Assumptions about the math (from engine.py):\n",
    "\n",
    "* Each Neuron contains its parameters (w's and b's), wrapped in an object (Value)\n",
    "* in order for the network to learn, we need to be able to nudge parameters in a particular direction, and by a certain amount in order to minimize loss\n",
    "* for each training step we need to do two passes:\n",
    "\n",
    "    * forward pass in order to determine how well the network is doing given the **current** parameters; \n",
    "        * we build a network of connections between the parameters; \n",
    "        * we initialize $gradients$ -- values associated with each parameter\n",
    "\n",
    "    * backward pass in order to update the $gradients$, so that next time we do a forward pass we will make a prediction that is just a little bit closer to the target value."
   ]
  },
  {
   "cell_type": "code",
   "execution_count": 2,
   "metadata": {},
   "outputs": [],
   "source": [
    "import random\n",
    "import numpy as np\n",
    "import matplotlib.pyplot as plt\n",
    "%matplotlib inline"
   ]
  },
  {
   "cell_type": "markdown",
   "metadata": {},
   "source": [
    "#### Restart kernel when external files change"
   ]
  },
  {
   "cell_type": "code",
   "execution_count": 3,
   "metadata": {},
   "outputs": [
    {
     "name": "stdout",
     "output_type": "stream",
     "text": [
      "The autoreload extension is already loaded. To reload it, use:\n",
      "  %reload_ext autoreload\n"
     ]
    }
   ],
   "source": [
    "%load_ext autoreload\n",
    "%autoreload 2"
   ]
  },
  {
   "cell_type": "code",
   "execution_count": 4,
   "metadata": {},
   "outputs": [],
   "source": [
    "from micrograd.engine import Value\n",
    "from micrograd.nn import Neuron, Layer, MLP"
   ]
  },
  {
   "cell_type": "markdown",
   "metadata": {},
   "source": [
    "#### Set the seed, to get repeatable \n",
    "Question: what's the difference between the two seeds?"
   ]
  },
  {
   "cell_type": "code",
   "execution_count": 5,
   "metadata": {},
   "outputs": [],
   "source": [
    "np.random.seed(1337)\n",
    "random.seed(1337)"
   ]
  },
  {
   "cell_type": "markdown",
   "metadata": {},
   "source": [
    "## Gather and visualize the Data"
   ]
  },
  {
   "cell_type": "code",
   "execution_count": 36,
   "metadata": {},
   "outputs": [
    {
     "name": "stdout",
     "output_type": "stream",
     "text": [
      "************\n",
      "Input shapes: X:  (100, 2) y:  (100,)\n"
     ]
    },
    {
     "data": {
      "text/plain": [
       "<matplotlib.collections.PathCollection at 0x144ac1350>"
      ]
     },
     "execution_count": 36,
     "metadata": {},
     "output_type": "execute_result"
    },
    {
     "data": {
      "image/png": "[encoded data removed]",
      "text/plain": [
       "<Figure size 500x500 with 1 Axes>"
      ]
     },
     "metadata": {},
     "output_type": "display_data"
    }
   ],
   "source": [
    "# make up a dataset\n",
    "\n",
    "from sklearn.datasets import make_moons, make_blobs\n",
    "X, y = make_moons(n_samples=100, noise=0.1)\n",
    "\n",
    "print(\"************\")\n",
    "print(\"Input shapes: X: \", X.shape, \"y: \", y.shape)\n",
    "\n",
    "y = y*2 - 1 # make y be -1 or 1\n",
    "# visualize in 2D\n",
    "plt.figure(figsize=(5,5))\n",
    "plt.scatter(X[:,0], X[:,1], c=y, s=20, cmap='jet')"
   ]
  },
  {
   "cell_type": "markdown",
   "metadata": {},
   "source": [
    "### The shape of the Network\n",
    "\n",
    "Our MLP class is a densely-connected network, so every node (Perceptron) is connected to every other node in both the layer before and the layer after\n",
    "So, that means that the **shape** of at each layer depends on on the number of nodes in the layer before and the layer after.\n",
    "\n",
    "For example if we define a network with 3 inputs, and three layers with: 4, 5, and 6 nodes, and one output node, the shapes of the layers will be:\n",
    "* layer 1: 3x4\n",
    "* layer 2: 4x5\n",
    "* layer 3: 5x6\n",
    "* output layer: 6x1"
   ]
  },
  {
   "cell_type": "markdown",
   "metadata": {},
   "source": [
    "### Create the Neural Network"
   ]
  },
  {
   "cell_type": "code",
   "execution_count": 7,
   "metadata": {},
   "outputs": [
    {
     "name": "stdout",
     "output_type": "stream",
     "text": [
      "Multi-Layer Perceptron Structure:\n",
      " Layer 1/3 - Shape of the layer is: 2 X 16 (nin X nout)\n",
      "   Neuron 1: ReLUNeuron(2) -> w0 = 0.2355, w1 = 0.0665, b = 0.0000 \n",
      "   Neuron 2: ReLUNeuron(2) -> w0 =-0.2683, w1 = 0.1716, b = 0.0000 \n",
      "   Neuron 3: ReLUNeuron(2) -> w0 =-0.6686, w1 = 0.6487, b = 0.0000 \n",
      "   Neuron 4: ReLUNeuron(2) -> w0 =-0.2326, w1 = 0.5792, b = 0.0000 \n",
      "   Neuron 5: ReLUNeuron(2) -> w0 = 0.8435, w1 =-0.3847, b = 0.0000 \n",
      "   Neuron 6: ReLUNeuron(2) -> w0 = 0.9845, w1 =-0.5901, b = 0.0000 \n",
      "   Neuron 7: ReLUNeuron(2) -> w0 = 0.3126, w1 = 0.8246, b = 0.0000 \n",
      "   Neuron 8: ReLUNeuron(2) -> w0 =-0.7814, w1 = 0.6409, b = 0.0000 \n",
      "   Neuron 9: ReLUNeuron(2) -> w0 =-0.2025, w1 =-0.8693, b = 0.0000 \n",
      "   Neuron 10: ReLUNeuron(2) -> w0 = 0.3984, w1 =-0.3038, b = 0.0000 \n",
      "   Neuron 11: ReLUNeuron(2) -> w0 =-0.1928, w1 = 0.6032, b = 0.0000 \n",
      "   Neuron 12: ReLUNeuron(2) -> w0 = 0.6001, w1 = 0.3275, b = 0.0000 \n",
      "   Neuron 13: ReLUNeuron(2) -> w0 = 0.6650, w1 = 0.1889, b = 0.0000 \n",
      "   Neuron 14: ReLUNeuron(2) -> w0 =-0.0781, w1 = 0.9151, b = 0.0000 \n",
      "   Neuron 15: ReLUNeuron(2) -> w0 = 0.5914, w1 =-0.3725, b = 0.0000 \n",
      "   Neuron 16: ReLUNeuron(2) -> w0 = 0.3811, w1 = 0.8302, b = 0.0000 \n",
      "\n",
      " Layer 2/3 - Shape of the layer is: 16 X 16 (nin X nout)\n",
      "   Neuron 1: ReLUNeuron(16) -> w0 =-0.0857, w1 =-0.4703, w2 =-0.5980, w3 =-0.8654, w4 = 0.0509, w5 = 0.2373, w6 = 0.1546, w7 =-0.9122, w8 =-0.1851, w9 = 0.3058, w10 = 0.2395, w11 = 0.3512, w12 = 0.2700, w13 =-0.6060, w14 =-0.4301, w15 =-0.0953, b = 0.0000 \n",
      "   Neuron 2: ReLUNeuron(16) -> w0 = 0.8331, w1 = 0.5965, w2 =-0.3714, w3 = 0.5908, w4 = 0.2216, w5 =-0.1357, w6 = 0.5809, w7 = 0.0992, w8 = 0.5520, w9 = 0.1108, w10 = 0.2915, w11 = 0.6969, w12 =-0.5727, w13 = 0.9489, w14 = 0.0582, w15 = 0.0569, b = 0.0000 \n",
      "   Neuron 3: ReLUNeuron(16) -> w0 = 0.5506, w1 =-0.8991, w2 =-0.0107, w3 = 0.4730, w4 =-0.0896, w5 = 0.7976, w6 = 0.6100, w7 =-0.0248, w8 = 0.5044, w9 = 0.4577, w10 =-0.2948, w11 = 0.1168, w12 = 0.1380, w13 =-0.4854, w14 =-0.8664, w15 =-0.7390, b = 0.0000 \n",
      "   Neuron 4: ReLUNeuron(16) -> w0 =-0.8822, w1 =-0.6598, w2 = 0.6400, w3 =-0.6163, w4 = 0.9053, w5 = 0.6671, w6 = 0.7552, w7 = 0.1091, w8 =-0.1459, w9 = 0.2128, w10 = 0.7623, w11 = 0.8620, w12 =-0.1401, w13 = 0.4822, w14 =-0.6889, w15 = 0.2678, b = 0.0000 \n",
      "   Neuron 5: ReLUNeuron(16) -> w0 =-0.3054, w1 =-0.8632, w2 =-0.2952, w3 = 0.3537, w4 = 0.2019, w5 = 0.4348, w6 =-0.6170, w7 =-0.0319, w8 = 0.2263, w9 = 0.1056, w10 =-0.6805, w11 = 0.4228, w12 = 0.6854, w13 =-0.2141, w14 =-0.6109, w15 = 0.5255, b = 0.0000 \n",
      "   Neuron 6: ReLUNeuron(16) -> w0 = 0.2498, w1 =-0.1649, w2 =-0.6818, w3 =-0.0616, w4 = 0.3953, w5 =-0.3567, w6 =-0.9395, w7 = 0.1999, w8 = 0.2826, w9 =-0.3861, w10 = 0.8860, w11 = 0.0922, w12 = 0.5616, w13 = 0.7480, w14 =-0.5498, w15 =-0.3894, b = 0.0000 \n",
      "   Neuron 7: ReLUNeuron(16) -> w0 =-0.1199, w1 =-0.2419, w2 = 0.2731, w3 =-0.7119, w4 = 0.6407, w5 = 0.5252, w6 =-0.5266, w7 = 0.6262, w8 =-0.8283, w9 = 0.3881, w10 =-0.3150, w11 = 0.6825, w12 =-0.4496, w13 = 0.0543, w14 = 0.1884, w15 =-0.2225, b = 0.0000 \n",
      "   Neuron 8: ReLUNeuron(16) -> w0 =-0.7209, w1 = 0.7177, w2 = 0.0086, w3 =-0.2424, w4 = 0.2790, w5 =-0.7726, w6 =-0.5139, w7 =-0.8955, w8 = 0.5816, w9 =-0.5751, w10 = 0.0699, w11 = 0.8579, w12 = 0.1599, w13 =-0.7941, w14 = 0.7129, w15 = 0.9005, b = 0.0000 \n",
      "   Neuron 9: ReLUNeuron(16) -> w0 = 0.0116, w1 = 0.1819, w2 = 0.2885, w3 = 0.2822, w4 =-0.0075, w5 =-0.9683, w6 =-0.7037, w7 = 0.9556, w8 = 0.8304, w9 = 0.2986, w10 = 0.2305, w11 = 0.8610, w12 = 0.4704, w13 =-0.9583, w14 = 0.5815, w15 =-0.6754, b = 0.0000 \n",
      "   Neuron 10: ReLUNeuron(16) -> w0 = 0.5036, w1 = 0.2956, w2 = 0.4217, w3 = 0.5984, w4 =-0.0781, w5 = 0.6104, w6 = 0.3465, w7 = 0.5047, w8 =-0.9499, w9 =-0.1474, w10 = 0.5844, w11 =-0.7951, w12 =-0.6602, w13 = 0.4355, w14 = 0.8152, w15 = 0.2604, b = 0.0000 \n",
      "   Neuron 11: ReLUNeuron(16) -> w0 = 0.7178, w1 =-0.6862, w2 =-0.6063, w3 =-0.8434, w4 = 0.1001, w5 = 0.8241, w6 = 0.1550, w7 =-0.5089, w8 = 0.8287, w9 =-0.8823, w10 =-0.5452, w11 = 0.5762, w12 =-0.3434, w13 = 0.1032, w14 =-0.0538, w15 =-0.6117, b = 0.0000 \n",
      "   Neuron 12: ReLUNeuron(16) -> w0 =-0.8525, w1 = 0.6965, w2 = 0.3227, w3 =-0.2782, w4 = 0.1606, w5 =-0.9446, w6 = 0.8742, w7 = 0.3582, w8 = 0.9043, w9 =-0.8816, w10 = 0.1004, w11 =-0.7699, w12 = 0.3041, w13 =-0.2035, w14 =-0.4433, w15 = 0.1243, b = 0.0000 \n",
      "   Neuron 13: ReLUNeuron(16) -> w0 =-0.4259, w1 = 0.3790, w2 =-0.9859, w3 = 0.7028, w4 =-0.4012, w5 =-0.2568, w6 = 0.5347, w7 =-0.3552, w8 = 0.5122, w9 =-0.8869, w10 = 0.5189, w11 =-0.8928, w12 = 0.5237, w13 = 0.6018, w14 = 0.2463, w15 =-0.2056, b = 0.0000 \n",
      "   Neuron 14: ReLUNeuron(16) -> w0 =-0.6525, w1 =-0.0065, w2 = 0.3493, w3 =-0.6325, w4 =-0.8530, w5 =-0.6218, w6 = 0.9327, w7 = 0.2794, w8 = 0.5689, w9 =-0.6841, w10 =-0.5559, w11 = 0.2059, w12 =-0.8391, w13 =-0.5530, w14 =-0.6279, w15 =-0.9593, b = 0.0000 \n",
      "   Neuron 15: ReLUNeuron(16) -> w0 = 0.9196, w1 = 0.0459, w2 = 0.5127, w3 =-0.7914, w4 = 0.8488, w5 =-0.3572, w6 =-0.8966, w7 = 0.4191, w8 =-0.0188, w9 = 0.6546, w10 =-0.3485, w11 = 0.5544, w12 = 0.1690, w13 =-0.3389, w14 = 0.3973, w15 =-0.7930, b = 0.0000 \n",
      "   Neuron 16: ReLUNeuron(16) -> w0 = 0.0771, w1 = 0.3936, w2 =-0.8762, w3 = 0.3788, w4 =-0.2034, w5 =-0.9231, w6 =-0.2020, w7 = 0.9606, w8 =-0.9182, w9 = 0.2292, w10 =-0.1319, w11 =-0.0870, w12 = 0.9841, w13 = 0.1943, w14 = 0.2294, w15 = 0.1230, b = 0.0000 \n",
      "\n",
      " Layer 3/3 - Shape of the layer is: 16 X 1 (nin X nout)\n",
      "   Neuron 1: LinearNeuron(16) -> w0 = 0.9129, w1 =-0.8210, w2 = 0.9648, w3 = 0.3471, w4 = 0.5436, w5 = 0.4910, w6 =-0.9354, w7 =-0.7077, w8 =-0.5439, w9 = 0.2416, w10 =-0.6724, w11 =-0.5973, w12 = 0.6458, w13 =-0.2272, w14 =-0.3223, w15 =-0.2533, b = 0.0000 \n",
      "\n",
      "\n",
      "number of parameters 337\n"
     ]
    }
   ],
   "source": [
    "# initialize a model \n",
    "model = MLP(2, [16, 16, 1]) # 2-layer neural network\n",
    "print(model)\n",
    "print(\"number of parameters\", len(model.parameters()))"
   ]
  },
  {
   "cell_type": "markdown",
   "metadata": {},
   "source": [
    "## Loss function\n",
    "\n",
    "* **line 14:** is the **forward pass** through the network\n",
    "\n",
    "* **line 16** svm \"max-margin\" loss\n",
    "The hinge loss term ∑𝑖max(0,1−𝑦𝑖(𝐰⊺𝐱𝑖+𝑏))\n",
    " in soft margin SVM penalizes misclassifications. In hard margin SVM there are, by definition, no misclassifications. More here: https://en.wikipedia.org/wiki/Hinge_loss\n",
    "\n",
    "* **line 19:** **Regularization** is a technique used in machine learning and deep learning to prevent overfitting and improve the generalization performance of a model. It involves adding a penalty term to the loss function during training.  More on this here: https://www.analyticsvidhya.com/blog/2018/04/fundamentals-deep-learning-regularization-techniques/#:~:text=Regularization%20is%20a%20technique%20used,the%20loss%20function%20during%20training.\n",
    "\n"
   ]
  },
  {
   "cell_type": "code",
   "execution_count": 41,
   "metadata": {},
   "outputs": [
    {
     "name": "stdout",
     "output_type": "stream",
     "text": [
      "Xb: [[0.24359556 0.98688097]] inputs: [[Value(data=0.2435955591026185, grad=0), Value(data=0.9868809652803922, grad=0)]]\n",
      "total_loss:  Value(data=0.04312049649639047, grad=0)  activation:  1.0\n"
     ]
    }
   ],
   "source": [
    "# loss function\n",
    "def loss(batch_size=None):\n",
    "    \n",
    "    # inline DataLoader :)\n",
    "    if batch_size is None:\n",
    "        Xb, yb = X, y\n",
    "    else:\n",
    "        ri = np.random.permutation(X.shape[0])[:batch_size]\n",
    "        Xb, yb = X[ri], y[ri]\n",
    "    inputs = [list(map(Value, xrow)) for xrow in Xb]\n",
    "    print(\"Xb:\", Xb[:1], \"inputs:\", inputs[:1])\n",
    "    \n",
    "    # forward the model to get scores\n",
    "    scores = list(map(model, inputs))\n",
    "    \n",
    "    # svm \"max-margin\" loss\n",
    "    losses = [(1 + -yi*scorei).relu() for yi, scorei in zip(yb, scores)]\n",
    "    data_loss = sum(losses) * (1.0 / len(losses))\n",
    "    # L2 regularization\n",
    "    alpha = 1e-4\n",
    "    reg_loss = alpha * sum((p*p for p in model.parameters()))\n",
    "    total_loss = data_loss + reg_loss\n",
    "    \n",
    "    # also get accuracy\n",
    "    accuracy = [(yi > 0) == (scorei.data > 0) for yi, scorei in zip(yb, scores)]\n",
    "    return total_loss, sum(accuracy) / len(accuracy)\n",
    "\n",
    "total_loss, acc = loss()\n",
    "print(\"total_loss: \", total_loss, \" activation: \", acc)"
   ]
  },
  {
   "cell_type": "markdown",
   "metadata": {},
   "source": [
    "## Optimization\n",
    "\n",
    "* **learning rate decay:** learning rate decreases over time (1.0 -> 0.18).  This can improve performance by taking larger steps.\n",
    "initially, and over time smaller ones.  "
   ]
  },
  {
   "cell_type": "code",
   "execution_count": 26,
   "metadata": {},
   "outputs": [
    {
     "name": "stdout",
     "output_type": "stream",
     "text": [
      "[[Value(data=1.1221146075409685, grad=0), Value(data=0.08147717341718697, grad=0)], [Value(data=-0.8188294130836691, grad=0), Value(data=0.058790063907949996, grad=0)]]\n",
      "step 0 loss 0.010951573506532237, accuracy 100.0%\n"
     ]
    }
   ],
   "source": [
    "# optimization\n",
    "for k in range(100):\n",
    "    \n",
    "    # forward\n",
    "    total_loss, acc = loss()\n",
    "    \n",
    "    # backward\n",
    "    model.zero_grad()\n",
    "    total_loss.backward()\n",
    "    \n",
    "    # update (sgd)\n",
    "    learning_rate = 1.0 - 0.9*k/100    \n",
    "    for p in model.parameters():\n",
    "        p.data -= learning_rate * p.grad\n",
    "    \n",
    "    #if k % 1 == 0:\n",
    "    print(f\"step {k} loss {total_loss.data}, accuracy {acc*100}%\")\n"
   ]
  },
  {
   "cell_type": "code",
   "execution_count": 14,
   "metadata": {},
   "outputs": [
    {
     "data": {
      "text/plain": [
       "(-1.548639298268643, 1.951360701731357)"
      ]
     },
     "execution_count": 14,
     "metadata": {},
     "output_type": "execute_result"
    },
    {
     "data": {
      "image/png": "[encoded data removed]",
      "text/plain": [
       "<Figure size 640x480 with 1 Axes>"
      ]
     },
     "metadata": {},
     "output_type": "display_data"
    }
   ],
   "source": [
    "# visualize decision boundary\n",
    "\n",
    "h = 0.25\n",
    "x_min, x_max = X[:, 0].min() - 1, X[:, 0].max() + 1\n",
    "y_min, y_max = X[:, 1].min() - 1, X[:, 1].max() + 1\n",
    "xx, yy = np.meshgrid(np.arange(x_min, x_max, h),\n",
    "                     np.arange(y_min, y_max, h))\n",
    "Xmesh = np.c_[xx.ravel(), yy.ravel()]\n",
    "inputs = [list(map(Value, xrow)) for xrow in Xmesh]\n",
    "scores = list(map(model, inputs))\n",
    "Z = np.array([s.data > 0 for s in scores])\n",
    "Z = Z.reshape(xx.shape)\n",
    "\n",
    "fig = plt.figure()\n",
    "plt.contourf(xx, yy, Z, cmap=plt.cm.Spectral, alpha=0.8)\n",
    "plt.scatter(X[:, 0], X[:, 1], c=y, s=40, cmap=plt.cm.Spectral)\n",
    "plt.xlim(xx.min(), xx.max())\n",
    "plt.ylim(yy.min(), yy.max())\n"
   ]
  },
  {
   "cell_type": "code",
   "execution_count": null,
   "metadata": {},
   "outputs": [],
   "source": []
  }
 ],
 "metadata": {
  "kernelspec": {
   "display_name": ".venv",
   "language": "python",
   "name": "python3"
  },
  "language_info": {
   "codemirror_mode": {
    "name": "ipython",
    "version": 3
   },
   "file_extension": ".py",
   "mimetype": "text/x-python",
   "name": "python",
   "nbconvert_exporter": "python",
   "pygments_lexer": "ipython3",
   "version": "3.12.2"
  }
 },
 "nbformat": 4,
 "nbformat_minor": 2
}
